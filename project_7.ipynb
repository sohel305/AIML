{
  "cells": [
    {
      "cell_type": "markdown",
      "metadata": {
        "id": "view-in-github",
        "colab_type": "text"
      },
      "source": [
        "<a href=\"https://colab.research.google.com/github/sohel305/AIML/blob/main/project_7.ipynb\" target=\"_parent\"><img src=\"https://colab.research.google.com/assets/colab-badge.svg\" alt=\"Open In Colab\"/></a>"
      ]
    },
    {
      "cell_type": "code",
      "source": [
        "import pandas\n",
        "from sklearn import model_selection\n",
        "from sklearn.ensemble import BaggingClassifier\n",
        "from sklearn.tree import DecisionTreeClassifier\n",
        "url=\"https://raw.githubusercontent.com/jbrownlee/Datasets/master/pima-indians-diabetes.data.csv\"\n",
        "names=['preg','plas','pres','skin','test','mass','pedi','age','class']\n",
        "df=pandas.read_csv(url,names=names)\n",
        "df.shape"
      ],
      "metadata": {
        "colab": {
          "base_uri": "https://localhost:8080/"
        },
        "id": "sPMTIfcqji8P",
        "outputId": "e29e0287-6a44-42ea-e30c-874b79aafae6"
      },
      "execution_count": 6,
      "outputs": [
        {
          "output_type": "execute_result",
          "data": {
            "text/plain": [
              "(768, 9)"
            ]
          },
          "metadata": {},
          "execution_count": 6
        }
      ]
    },
    {
      "cell_type": "code",
      "source": [
        "array=df.values\n",
        "X=array[:,0:8]\n",
        "Y=array[:,8]\n",
        "Kfold = model_selection.KFold(n_splits=10, random_state=7, shuffle=True)\n",
        "cart=DecisionTreeClassifier()\n",
        "num_trees=100\n",
        "model=BaggingClassifier(estimator=cart,n_estimators=num_trees,random_state=7)\n",
        "results=model_selection.cross_val_score(model,X,Y,cv=Kfold)\n",
        "average_accuracy=sum(results)/len(results)\n",
        "print(\"Average Accuracy is\", average_accuracy)"
      ],
      "metadata": {
        "colab": {
          "base_uri": "https://localhost:8080/"
        },
        "id": "BZrYLOOakhYo",
        "outputId": "c92a7279-1062-4a70-e965-3b1fabcd5210"
      },
      "execution_count": 11,
      "outputs": [
        {
          "output_type": "stream",
          "name": "stdout",
          "text": [
            "Average Accuracy is 0.7578263841421736\n"
          ]
        }
      ]
    },
    {
      "cell_type": "code",
      "source": [
        "import pandas\n",
        "from sklearn import model_selection\n",
        "from sklearn.ensemble import BaggingClassifier\n",
        "from sklearn.tree import DecisionTreeClassifier\n",
        "# Import KNeighborsClassifier from sklearn.neighbors\n",
        "from sklearn.neighbors import KNeighborsClassifier\n",
        "url=\"https://raw.githubusercontent.com/jbrownlee/Datasets/master/pima-indians-diabetes.data.csv\"\n",
        "names=['preg','plas','pres','skin','test','mass','pedi','age','class']\n",
        "df=pandas.read_csv(url,names=names)\n",
        "df.shape\n",
        "array=df.values\n",
        "X = array[:,0:8]\n",
        "Y = array[:,8]\n",
        "Kfold = model_selection.KFold(n_splits=10, random_state=7,shuffle=True)\n",
        "# Initialize KNeighborsClassifier\n",
        "knn = KNeighborsClassifier()\n",
        "num_learners = 100\n",
        "model =BaggingClassifier(estimator=knn, n_estimators=num_learners, random_state=7)\n",
        "results = model_selection.cross_val_score(model, X, Y, cv=Kfold)\n",
        "average_accuracy = sum(results)/len(results)\n",
        "print(\"Average Accuracy is\", average_accuracy)"
      ],
      "metadata": {
        "colab": {
          "base_uri": "https://localhost:8080/"
        },
        "id": "cdItfzCtwGdS",
        "outputId": "518beffd-26a6-479a-990b-c739c0aaa0ba"
      },
      "execution_count": 19,
      "outputs": [
        {
          "output_type": "stream",
          "name": "stdout",
          "text": [
            "Average Accuracy is 0.7188140806561858\n"
          ]
        }
      ]
    },
    {
      "cell_type": "code",
      "source": [],
      "metadata": {
        "id": "yZ3icyrJx1QC"
      },
      "execution_count": null,
      "outputs": []
    }
  ],
  "metadata": {
    "colab": {
      "name": "Welcome To Colab",
      "toc_visible": true,
      "provenance": [],
      "include_colab_link": true
    },
    "kernelspec": {
      "display_name": "Python 3",
      "name": "python3"
    }
  },
  "nbformat": 4,
  "nbformat_minor": 0
}